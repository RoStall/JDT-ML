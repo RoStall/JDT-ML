{
 "cells": [
  {
   "cell_type": "code",
   "execution_count": 23,
   "metadata": {},
   "outputs": [
    {
     "data": {
      "text/plain": [
       "['Platform',\n 'subjectNo',\n 'normTime',\n 'jumpNo',\n 'lmg_airsum',\n 'lmg_lsrsum',\n 'rmg_airsum',\n 'rmg_lsrsum',\n 'lta_airsum',\n 'lta_lsrsum',\n 'rta_airsum',\n 'rta_lsrsum',\n 'lmg_iemg_air',\n 'rmg_iemg_air',\n 'lta_iemg_air',\n 'rta_iemg_air',\n 'lmg_iemg_lnd',\n 'rmg_iemg_lnd',\n 'lta_iemg_lnd',\n 'rta_iemg_lnd',\n 'bmg_wav',\n 'bmg_iemg',\n 'bta_wav',\n 'bta_iemg',\n 'F1',\n 'T1',\n 'W1',\n 'F2',\n 'T2',\n 'W2',\n 'F3',\n 'T3',\n 'W3',\n 'F2F1']"
      ]
     },
     "execution_count": 23,
     "metadata": {},
     "output_type": "execute_result"
    }
   ],
   "source": [
    "import pandas as pd\n",
    "import numpy as np\n",
    "import sklearn\n",
    "import matplotlib\n",
    "\n",
    "# load data ~/dropbox/nasa_stretch/force_features/force_emg_expl.csv\n",
    "\n",
    "df = pd.read_csv('~/dropbox/nasa_stretch/force_features/force_emg_expl.csv')\n",
    "\n",
    "# add ratios\n",
    "\n",
    "df = df.assign(bmg_wav=(df['lmg_airsum'] + df['rmg_airsum'])/(df['lmg_lsrsum'] + df['rmg_lsrsum']),\n",
    "               bmg_iemg=(df['lmg_iemg_air'] + df['rmg_iemg_air'])/(df['lmg_iemg_lnd'] + df['rmg_iemg_lnd']),\n",
    "               bta_wav=(df['lta_airsum'] + df['rta_airsum'])/(df['lta_lsrsum'] + df['rta_lsrsum']),\n",
    "               bta_iemg=(df['lta_iemg_air'] + df['rta_iemg_air'])/(df['lta_iemg_lnd'] + df['rta_iemg_lnd']))\n",
    "\n",
    "# reorder for i/o paradigm\n",
    "df = df[['Platform',\n",
    " 'subjectNo',\n",
    " 'normTime',\n",
    " 'jumpNo',\n",
    " 'lmg_airsum',\n",
    " 'lmg_lsrsum',\n",
    " 'rmg_airsum',\n",
    " 'rmg_lsrsum',\n",
    " 'lta_airsum',\n",
    " 'lta_lsrsum',\n",
    " 'rta_airsum',\n",
    " 'rta_lsrsum',\n",
    " 'lmg_iemg_air',\n",
    " 'rmg_iemg_air',\n",
    " 'lta_iemg_air',\n",
    " 'rta_iemg_air',\n",
    " 'lmg_iemg_lnd',\n",
    " 'rmg_iemg_lnd',\n",
    " 'lta_iemg_lnd',\n",
    " 'rta_iemg_lnd',\n",
    " 'bmg_wav',\n",
    " 'bmg_iemg',\n",
    " 'bta_wav',\n",
    " 'bta_iemg',\n",
    " 'F1',\n",
    " 'T1',\n",
    " 'W1',\n",
    " 'F2',\n",
    " 'T2',\n",
    " 'W2',\n",
    " 'F3',\n",
    " 'T3',\n",
    " 'W3',\n",
    " 'F2F1']]\n",
    "\n",
    "# remove cases where jumpNo > 3\n",
    "\n",
    "df = df[df.jumpNo <= 3]\n",
    "\n",
    "# get ISS platgorm\n",
    "df_plats = df.groupby('Platform')\n",
    "df_iss = df_plats.get_group('ISS')\n",
    "\n",
    "\n",
    "list(df_iss)\n",
    "\n",
    "\n"
   ]
  },
  {
   "cell_type": "code",
   "execution_count": 12,
   "metadata": {},
   "outputs": [
    {
     "data": {
      "text/plain": [
       "['Platform',\n 'subjectNo',\n 'normTime',\n 'jumpNo',\n 'lmg_airsum',\n 'lmg_lsrsum',\n 'rmg_airsum',\n 'rmg_lsrsum',\n 'lta_airsum',\n 'lta_lsrsum',\n 'rta_airsum',\n 'rta_lsrsum',\n 'lmg_iemg_air',\n 'rmg_iemg_air',\n 'lta_iemg_air',\n 'rta_iemg_air',\n 'lmg_iemg_lnd',\n 'rmg_iemg_lnd',\n 'lta_iemg_lnd',\n 'rta_iemg_lnd',\n 'F1',\n 'T1',\n 'W1',\n 'F2',\n 'T2',\n 'W2',\n 'F3',\n 'T3',\n 'W3',\n 'F2F1',\n 'bmg_wav']"
      ]
     },
     "execution_count": 12,
     "metadata": {},
     "output_type": "execute_result"
    }
   ],
   "source": [
    ""
   ]
  },
  {
   "cell_type": "code",
   "execution_count": null,
   "metadata": {},
   "outputs": [],
   "source": []
  }
 ],
 "metadata": {
  "kernelspec": {
   "display_name": "Python 3",
   "language": "python",
   "name": "python3"
  },
  "language_info": {
   "codemirror_mode": {
    "name": "ipython",
    "version": 3
   },
   "file_extension": ".py",
   "mimetype": "text/x-python",
   "name": "python",
   "nbconvert_exporter": "python",
   "pygments_lexer": "ipython3",
   "version": "3.6.4"
  }
 },
 "nbformat": 4,
 "nbformat_minor": 1
}
