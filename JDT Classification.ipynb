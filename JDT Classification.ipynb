{
 "cells": [
  {
   "cell_type": "code",
   "execution_count": null,
   "metadata": {},
   "outputs": [],
   "source": [
    "import pandas as pd\n",
    "import numpy as np\n",
    "import sklearn\n",
    "import matplotlib\n",
    "\n",
    "# load data ~/dropbox/nasa_stretch/force_features/force_emg_expl.csv\n",
    "\n",
    "df = pd.read_csv('~/dropbox/nasa_stretch/force_features/force_emg_expl.csv')\n",
    "df.head()\n",
    "\n",
    "\n",
    "# add ratios\n",
    "\"\"\"\n",
    "data$bmg_wav =(data$lmg_airsum + data$rmg_airsum)/(data$lmg_lsrsum + data$rmg_lsrsum)\n",
    "data$bmg_iemg =(data$lmg_iemg_air + data$rmg_iemg_air)/(data$lmg_iemg_lnd + data$rmg_iemg_lnd)\n",
    "data$bta_wav =(data$lta_airsum +data$rta_airsum)/(data$lta_lsrsum+ data$rta_lsrsum)\n",
    "data$bta_iemg = (data$lta_iemg_air + data$rta_iemg_air)/(data$lta_iemg_lnd + data$rta_iemg_lnd)\n",
    "\"\"\"\n",
    "\n",
    "# remove cases where jumpNo > 3\n",
    "\n",
    "# get ISS platgorm\n",
    "df_plats = df.groupby('Platform')\n",
    "df_iss = df_plats.get_group('ISS')\n",
    "\n",
    "\n",
    "\n",
    "\n",
    "\n",
    "\n"
   ]
  }
 ],
 "metadata": {
  "kernelspec": {
   "display_name": "Python 3",
   "language": "python",
   "name": "python3"
  },
  "language_info": {
   "codemirror_mode": {
    "name": "ipython",
    "version": 3
   },
   "file_extension": ".py",
   "mimetype": "text/x-python",
   "name": "python",
   "nbconvert_exporter": "python",
   "pygments_lexer": "ipython3",
   "version": "3.6.4"
  }
 },
 "nbformat": 4,
 "nbformat_minor": 1
}
